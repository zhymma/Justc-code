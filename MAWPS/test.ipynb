{
 "cells": [
  {
   "cell_type": "code",
   "execution_count": 6,
   "metadata": {},
   "outputs": [
    {
     "name": "stdout",
     "output_type": "stream",
     "text": [
      "25 433\n"
     ]
    }
   ],
   "source": [
    "import json\n",
    "with open(\"mawps/Fold_0/test_mawps_new_mwpss_fold_0.json\", 'r') as f:\n",
    "    data = json.load(f)\n",
    "right = 0\n",
    "for item in data:\n",
    "    for i in item[\"num_codes\"].values():\n",
    "        temp = set(i)\n",
    "        if len(temp) != len(i):\n",
    "            right+=1\n",
    "            break\n",
    "print(right,len(data))"
   ]
  }
 ],
 "metadata": {
  "kernelspec": {
   "display_name": "UTSC",
   "language": "python",
   "name": "python3"
  },
  "language_info": {
   "codemirror_mode": {
    "name": "ipython",
    "version": 3
   },
   "file_extension": ".py",
   "mimetype": "text/x-python",
   "name": "python",
   "nbconvert_exporter": "python",
   "pygments_lexer": "ipython3",
   "version": "3.7.16"
  },
  "orig_nbformat": 4
 },
 "nbformat": 4,
 "nbformat_minor": 2
}
