{
 "cells": [
  {
   "cell_type": "code",
   "execution_count": 10,
   "metadata": {},
   "outputs": [
    {
     "name": "stdout",
     "output_type": "stream",
     "text": [
      "25 433\n",
      "27 433\n",
      "23 433\n",
      "24 433\n",
      "22 431\n"
     ]
    }
   ],
   "source": [
    "import json\n",
    "for i in range(5):\n",
    "\n",
    "    with open(f\"mawps/Fold_{i}/test_mawps_new_mwpss_fold_{i}.json\", 'r') as f:\n",
    "        data = json.load(f)\n",
    "    right = 0\n",
    "    for item in data:\n",
    "        for i in item[\"num_codes\"].values():\n",
    "            temp = set(i)\n",
    "            if len(temp) != len(i):\n",
    "                right+=1\n",
    "                break\n",
    "    print(right,len(data))"
   ]
  },
  {
   "cell_type": "code",
   "execution_count": 8,
   "metadata": {},
   "outputs": [
    {
     "ename": "IndexError",
     "evalue": "too many indices for tensor of dimension 1",
     "output_type": "error",
     "traceback": [
      "\u001b[0;31m---------------------------------------------------------------------------\u001b[0m",
      "\u001b[0;31mIndexError\u001b[0m                                Traceback (most recent call last)",
      "\u001b[0;32m/tmp/ipykernel_1573959/978371261.py\u001b[0m in \u001b[0;36m<module>\u001b[0;34m\u001b[0m\n\u001b[1;32m     10\u001b[0m \u001b[0;34m\u001b[0m\u001b[0m\n\u001b[1;32m     11\u001b[0m \u001b[0;31m# 计算损失\u001b[0m\u001b[0;34m\u001b[0m\u001b[0;34m\u001b[0m\u001b[0;34m\u001b[0m\u001b[0m\n\u001b[0;32m---> 12\u001b[0;31m \u001b[0mloss\u001b[0m \u001b[0;34m=\u001b[0m \u001b[0mcriterion\u001b[0m\u001b[0;34m(\u001b[0m\u001b[0mpredictions\u001b[0m\u001b[0;34m[\u001b[0m\u001b[0;36m1\u001b[0m\u001b[0;34m,\u001b[0m\u001b[0;36m0\u001b[0m\u001b[0;34m,\u001b[0m\u001b[0;36m0\u001b[0m\u001b[0;34m,\u001b[0m\u001b[0;36m0\u001b[0m\u001b[0;34m]\u001b[0m\u001b[0;34m,\u001b[0m \u001b[0mlabels\u001b[0m\u001b[0;34m[\u001b[0m\u001b[0;36m1\u001b[0m\u001b[0;34m,\u001b[0m\u001b[0;36m0\u001b[0m\u001b[0;34m,\u001b[0m\u001b[0;36m0\u001b[0m\u001b[0;34m,\u001b[0m\u001b[0;36m0\u001b[0m\u001b[0;34m]\u001b[0m\u001b[0;34m)\u001b[0m\u001b[0;34m\u001b[0m\u001b[0;34m\u001b[0m\u001b[0m\n\u001b[0m\u001b[1;32m     13\u001b[0m \u001b[0mprint\u001b[0m\u001b[0;34m(\u001b[0m\u001b[0mloss\u001b[0m\u001b[0;34m)\u001b[0m\u001b[0;34m\u001b[0m\u001b[0;34m\u001b[0m\u001b[0m\n",
      "\u001b[0;31mIndexError\u001b[0m: too many indices for tensor of dimension 1"
     ]
    }
   ],
   "source": [
    "import torch\n",
    "import torch.nn as nn\n",
    "\n",
    "# 随机生成预测值和标签\n",
    "predictions = torch.Tensor([0.5,0,0,0])  # 假设有4个样本, 输出值在0-1之间\n",
    "labels = torch.Tensor([1, 0, 1, 0])  # 真实的标签\n",
    "\n",
    "# 创建损失函数\n",
    "criterion = nn.BCEWithLogitsLoss()\n",
    "\n",
    "# 计算损失\n",
    "loss = criterion(predictions[1,0,0,0], labels[1,0,0,0])\n",
    "print(loss)\n"
   ]
  },
  {
   "cell_type": "code",
   "execution_count": 6,
   "metadata": {},
   "outputs": [
    {
     "name": "stdout",
     "output_type": "stream",
     "text": [
      "[False  True  True False False]\n",
      "(array([1, 2]),)\n",
      "[0.4 1.5 2.  0.5 0.4]\n"
     ]
    }
   ],
   "source": [
    "import numpy as np\n",
    "\n",
    "# 假设你的数组是这样的\n",
    "num_codes_labels = np.array([0.5, 1.5, 2, 0.2, 1.7])\n",
    "outputs = np.array([0.4, 0.6, 0.7, 0.5, 0.4])\n",
    "# 找出num_codes_labels中大于1的位置\n",
    "greater_than_one = num_codes_labels > 1\n",
    "# 找出outputs中大于0.5的位置\n",
    "greater_than_half = outputs > 0.5\n",
    "# 找出同时满足两个条件的位置\n",
    "both_conditions = np.logical_and(greater_than_one, greater_than_half)\n",
    "# 打印结果\n",
    "indices = np.where(both_conditions)\n",
    "outputs[indices]=num_codes_labels[indices]"
   ]
  },
  {
   "cell_type": "code",
   "execution_count": 9,
   "metadata": {},
   "outputs": [
    {
     "name": "stdout",
     "output_type": "stream",
     "text": [
      "[0]\n",
      "0.55\n"
     ]
    }
   ],
   "source": [
    "import numpy as np\n",
    "\n",
    "numbers = np.array([[0.1, 0.3, 0.2, 0.55],\n",
    "                    [0.4, 0.7, 0.8, 0.2],\n",
    "                    [0.9, 0.5, 0.3, 0.1],\n",
    "                    [0.2, 0.6, 0.4, 0.8]])\n",
    "\n",
    "# 从大于0.5的数值中找到最小值\n",
    "min_value = np.min(numbers[numbers > 0.5])\n",
    "\n",
    "# 找到最小值的位置\n",
    "indices = np.where(numbers == min_value)\n",
    "\n",
    "print(indices[0])\n",
    "print(min_value)"
   ]
  },
  {
   "cell_type": "code",
   "execution_count": 8,
   "metadata": {},
   "outputs": [
    {
     "name": "stdout",
     "output_type": "stream",
     "text": [
      "tensor([[[ True],\n",
      "         [ True]],\n",
      "\n",
      "        [[False],\n",
      "         [ True]]])\n"
     ]
    }
   ],
   "source": [
    "import torch\n",
    "\n",
    "outputs_rounded = torch.tensor([[[0, 1, 0], [1, 0, 0]], [[1, 0, 0], [0, 1, 0]]])\n",
    "labels = torch.tensor([[[0, 1, 0], [1, 0, 0]], [[0, 0, 1], [1, 0, 0]]])\n",
    "\n",
    "# 判断最后一个维度是否相等\n",
    "equality = torch.eq(outputs_rounded[:, :, -1:], labels[:, :, -1:])\n",
    "\n",
    "print(equality)\n"
   ]
  },
  {
   "cell_type": "code",
   "execution_count": 13,
   "metadata": {},
   "outputs": [
    {
     "name": "stdout",
     "output_type": "stream",
     "text": [
      "tensor([[[ True],\n",
      "         [ True],\n",
      "         [ True],\n",
      "         [False]]])\n"
     ]
    }
   ],
   "source": [
    "A = torch.tensor([[[1., 0., 0., 0., 0., 0., 0., 0., 0., 0., 0., 0., 0., 0., 0., 0., 0.,\n",
    "          0., 0., 0., 0., 0., 0., 0., 0., 0., 0., 0.],\n",
    "         [1., 0., 0., 0., 0., 0., 0., 0., 0., 0., 0., 0., 0., 0., 0., 0., 0.,\n",
    "          0., 0., 0., 0., 0., 0., 0., 0., 0., 0., 0.],\n",
    "         [0., 1., 0., 0., 0., 0., 0., 0., 0., 0., 0., 0., 0., 0., 0., 0., 0.,\n",
    "          0., 0., 0., 0., 0., 0., 0., 0., 0., 0., 0.],\n",
    "         [0., 0., 0., 0., 0., 1., 0., 0., 0., 0., 0., 0., 0., 0., 0., 0., 0.,\n",
    "          0., 0., 0., 0., 0., 0., 0., 0., 0., 0., 0.]]])\n",
    "B = torch.tensor([[[1., 0., 0., 0., 0., 0., 0., 0., 0., 0., 0., 0., 0., 0., 0., 0., 0.,\n",
    "          0., 0., 0., 0., 0., 0., 0., 0., 0., 0., 0.],\n",
    "         [1., 0., 0., 0., 0., 0., 0., 0., 0., 0., 0., 0., 0., 0., 0., 0., 0.,\n",
    "          0., 0., 0., 0., 0., 0., 0., 0., 0., 0., 0.],\n",
    "         [0., 1., 0., 0., 0., 0., 0., 0., 0., 0., 0., 0., 0., 0., 0., 0., 0.,\n",
    "          0., 0., 0., 0., 0., 0., 0., 0., 0., 0., 0.],\n",
    "         [1., 0., 0., 0., 0., 1., 0., 0., 0., 0., 0., 0., 0., 0., 0., 0., 0.,\n",
    "          0., 0., 0., 0., 0., 0., 0., 0., 0., 0., 0.]]])\n",
    "equality = torch.eq(A, B)\n",
    "equal = torch.all(equality, dim=-1, keepdim=True)\n",
    "print(equal)"
   ]
  },
  {
   "cell_type": "code",
   "execution_count": 2,
   "metadata": {},
   "outputs": [
    {
     "name": "stdout",
     "output_type": "stream",
     "text": [
      "tensor([0.5000, 0.0000, 1.0000, 0.0000])\n",
      "tensor([1., 0., 0., 0.])\n"
     ]
    }
   ],
   "source": [
    "import torch\n",
    "import torch.nn as nn\n",
    "\n",
    "# 随机生成预测值和标签\n",
    "predictions = torch.Tensor([0.5,0,1,0])  # 假设有4个样本, 输出值在0-1之间\n",
    "labels = torch.Tensor([1, 0, 1, 0])  # 真实的标签\n",
    "\n",
    "outpus_processed = 1 - 2 * torch.abs(0.5 - predictions)\n",
    "\n",
    "print(predictions)\n",
    "print(outpus_processed)\n"
   ]
  },
  {
   "cell_type": "code",
   "execution_count": 13,
   "metadata": {},
   "outputs": [
    {
     "name": "stdout",
     "output_type": "stream",
     "text": [
      "需要的迭代次数是： 8\n"
     ]
    }
   ],
   "source": [
    "def compute_iterations(P, alpha, beta, threshold):\n",
    "    iterations = 1\n",
    "    while P < threshold:\n",
    "        P = P * alpha + P * (1-alpha) * beta + (1 - P) * alpha * beta\n",
    "        iterations += 1\n",
    "    return iterations\n",
    "\n",
    "# 设定初始条件\n",
    "P = 0.8\n",
    "alpha = 0.89\n",
    "beta = 0.8\n",
    "threshold = 0.97\n",
    "\n",
    "# 计算需要的迭代次数\n",
    "iterations = compute_iterations(P, alpha, beta, threshold)\n",
    "print(\"需要的迭代次数是：\", iterations)\n"
   ]
  },
  {
   "cell_type": "code",
   "execution_count": null,
   "metadata": {},
   "outputs": [
    {
     "ename": "",
     "evalue": "",
     "output_type": "error",
     "traceback": [
      "\u001b[1;31m无法启动 Kernel。 \n",
      "\u001b[1;31mUnable to start Kernel 'UTSC (Python 3.7.16)' due to a timeout waiting for the ports to get used. \n",
      "\u001b[1;31mView Jupyter <a href='command:jupyter.viewOutput'>log</a> for further details."
     ]
    }
   ],
   "source": [
    "import numpy as np\n",
    "def compute_iterations(P, alpha, beta, threshold):\n",
    "    iterations = 0\n",
    "    while P < threshold:\n",
    "        P = P * alpha + P * (1-alpha) * beta + (1 - P) * alpha * beta\n",
    "        iterations += 1\n",
    "    return iterations\n",
    "\n",
    "P = 0.88\n",
    "threshold = 0.95\n",
    "max_iterations = 10\n",
    "\n",
    "# 初始的最小值为1，因为α和β的最大可能值为1\n",
    "min_alpha = 1\n",
    "min_beta = 1\n",
    "\n",
    "step = 0.5  # 调整步长以改变搜索的精度和速度\n",
    "\n",
    "# 对每一个可能的α和β值进行搜索\n",
    "for alpha in np.arange(0.5, 1+step, step):\n",
    "    for beta in np.arange(0.5, 1+step, step):\n",
    "        iterations = compute_iterations(P, alpha, beta, threshold)\n",
    "        # 如果在指定的迭代次数内达到阈值，并且α和β的值比当前找到的最小值还要小，那么就更新最小值\n",
    "        if iterations <= max_iterations and alpha * beta < min_alpha * min_beta:\n",
    "            min_alpha = alpha\n",
    "            min_beta = beta\n",
    "\n",
    "print(\"最小的α值为：\", min_alpha)\n",
    "print(\"最小的β值为：\", min_beta)\n"
   ]
  },
  {
   "cell_type": "code",
   "execution_count": null,
   "metadata": {},
   "outputs": [],
   "source": [
    "from transformers import T5Tokenizer, T5Model\n",
    "\n",
    "tokenizer = T5Tokenizer.from_pretrained(\"google/flan-t5-large\")\n",
    "model = T5Model.from_pretrained(\"google/flan-t5-large\")\n",
    "\n",
    "input_ids = tokenizer(\n",
    "    \"Studies have been shown that owning a dog is good for you\", return_tensors=\"pt\"\n",
    ").input_ids  # Batch size 1\n",
    "decoder_input_ids = tokenizer(\"Studies show that\", return_tensors=\"pt\").input_ids  # Batch size 1\n",
    "\n",
    "# forward pass\n",
    "outputs = model(input_ids=input_ids, decoder_input_ids=decoder_input_ids)\n",
    "last_hidden_states = outputs.last_hidden_state\n"
   ]
  },
  {
   "cell_type": "code",
   "execution_count": 1,
   "metadata": {},
   "outputs": [
    {
     "name": "stdout",
     "output_type": "stream",
     "text": [
      "tensor(2.5000, device='cuda:0')\n"
     ]
    }
   ],
   "source": [
    "import torch\n",
    "\n",
    "# 创建一个整数张量\n",
    "int_tensor = torch.tensor(5).cuda()\n",
    "\n",
    "# 创建一个浮点数张量\n",
    "float_tensor = torch.tensor(3.14)\n",
    "\n",
    "temp = 2\n",
    "# 在整数张量和浮点数张量之间执行运算\n",
    "\n",
    "print(int_tensor / temp)\n"
   ]
  },
  {
   "cell_type": "code",
   "execution_count": 4,
   "metadata": {},
   "outputs": [
    {
     "ename": "RuntimeError",
     "evalue": "The size of tensor a (768) must match the size of tensor b (384) at non-singleton dimension 1",
     "output_type": "error",
     "traceback": [
      "\u001b[0;31m---------------------------------------------------------------------------\u001b[0m",
      "\u001b[0;31mRuntimeError\u001b[0m                              Traceback (most recent call last)",
      "\u001b[0;32m/tmp/ipykernel_2030499/3630361971.py\u001b[0m in \u001b[0;36m<module>\u001b[0;34m\u001b[0m\n\u001b[1;32m      9\u001b[0m         \u001b[0mpositional_encoding\u001b[0m\u001b[0;34m[\u001b[0m\u001b[0;36m0\u001b[0m\u001b[0;34m,\u001b[0m \u001b[0;34m:\u001b[0m\u001b[0;34m,\u001b[0m \u001b[0;36m1\u001b[0m\u001b[0;34m:\u001b[0m\u001b[0;34m:\u001b[0m\u001b[0;36m2\u001b[0m\u001b[0;34m]\u001b[0m \u001b[0;34m=\u001b[0m \u001b[0mtorch\u001b[0m\u001b[0;34m.\u001b[0m\u001b[0mcos\u001b[0m\u001b[0;34m(\u001b[0m\u001b[0mposition\u001b[0m \u001b[0;34m*\u001b[0m \u001b[0mdiv_term\u001b[0m\u001b[0;34m)\u001b[0m\u001b[0;34m\u001b[0m\u001b[0;34m\u001b[0m\u001b[0m\n\u001b[1;32m     10\u001b[0m         \u001b[0;32mreturn\u001b[0m \u001b[0mpositional_encoding\u001b[0m\u001b[0;34m\u001b[0m\u001b[0;34m\u001b[0m\u001b[0m\n\u001b[0;32m---> 11\u001b[0;31m \u001b[0mpositional_encoding\u001b[0m \u001b[0;34m=\u001b[0m \u001b[0mget_positional_encoding\u001b[0m\u001b[0;34m(\u001b[0m\u001b[0;36m768\u001b[0m\u001b[0;34m,\u001b[0m\u001b[0;36m768\u001b[0m\u001b[0;34m)\u001b[0m\u001b[0;34m\u001b[0m\u001b[0;34m\u001b[0m\u001b[0m\n\u001b[0m",
      "\u001b[0;32m/tmp/ipykernel_2030499/3630361971.py\u001b[0m in \u001b[0;36mget_positional_encoding\u001b[0;34m(d_model, max_sequence_length)\u001b[0m\n\u001b[1;32m      6\u001b[0m         \u001b[0mposition\u001b[0m \u001b[0;34m=\u001b[0m \u001b[0mtorch\u001b[0m\u001b[0;34m.\u001b[0m\u001b[0marange\u001b[0m\u001b[0;34m(\u001b[0m\u001b[0;36m0\u001b[0m\u001b[0;34m,\u001b[0m \u001b[0mmax_sequence_length\u001b[0m\u001b[0;34m,\u001b[0m \u001b[0mdtype\u001b[0m\u001b[0;34m=\u001b[0m\u001b[0mtorch\u001b[0m\u001b[0;34m.\u001b[0m\u001b[0mfloat32\u001b[0m\u001b[0;34m)\u001b[0m\u001b[0;34m.\u001b[0m\u001b[0munsqueeze\u001b[0m\u001b[0;34m(\u001b[0m\u001b[0;36m0\u001b[0m\u001b[0;34m)\u001b[0m\u001b[0;34m\u001b[0m\u001b[0;34m\u001b[0m\u001b[0m\n\u001b[1;32m      7\u001b[0m         \u001b[0mdiv_term\u001b[0m \u001b[0;34m=\u001b[0m \u001b[0mtorch\u001b[0m\u001b[0;34m.\u001b[0m\u001b[0mexp\u001b[0m\u001b[0;34m(\u001b[0m\u001b[0mtorch\u001b[0m\u001b[0;34m.\u001b[0m\u001b[0marange\u001b[0m\u001b[0;34m(\u001b[0m\u001b[0;36m0\u001b[0m\u001b[0;34m,\u001b[0m \u001b[0md_model\u001b[0m\u001b[0;34m,\u001b[0m \u001b[0;36m2\u001b[0m\u001b[0;34m)\u001b[0m\u001b[0;34m.\u001b[0m\u001b[0mfloat\u001b[0m\u001b[0;34m(\u001b[0m\u001b[0;34m)\u001b[0m \u001b[0;34m*\u001b[0m \u001b[0;34m(\u001b[0m\u001b[0;34m-\u001b[0m\u001b[0mmath\u001b[0m\u001b[0;34m.\u001b[0m\u001b[0mlog\u001b[0m\u001b[0;34m(\u001b[0m\u001b[0;36m10000.0\u001b[0m\u001b[0;34m)\u001b[0m \u001b[0;34m/\u001b[0m \u001b[0md_model\u001b[0m\u001b[0;34m)\u001b[0m\u001b[0;34m)\u001b[0m\u001b[0;34m\u001b[0m\u001b[0;34m\u001b[0m\u001b[0m\n\u001b[0;32m----> 8\u001b[0;31m         \u001b[0mpositional_encoding\u001b[0m\u001b[0;34m[\u001b[0m\u001b[0;36m0\u001b[0m\u001b[0;34m,\u001b[0m \u001b[0;34m:\u001b[0m\u001b[0;34m,\u001b[0m \u001b[0;36m0\u001b[0m\u001b[0;34m:\u001b[0m\u001b[0;34m:\u001b[0m\u001b[0;36m2\u001b[0m\u001b[0;34m]\u001b[0m \u001b[0;34m=\u001b[0m \u001b[0mtorch\u001b[0m\u001b[0;34m.\u001b[0m\u001b[0msin\u001b[0m\u001b[0;34m(\u001b[0m\u001b[0mposition\u001b[0m \u001b[0;34m*\u001b[0m \u001b[0mdiv_term\u001b[0m\u001b[0;34m)\u001b[0m\u001b[0;34m\u001b[0m\u001b[0;34m\u001b[0m\u001b[0m\n\u001b[0m\u001b[1;32m      9\u001b[0m         \u001b[0mpositional_encoding\u001b[0m\u001b[0;34m[\u001b[0m\u001b[0;36m0\u001b[0m\u001b[0;34m,\u001b[0m \u001b[0;34m:\u001b[0m\u001b[0;34m,\u001b[0m \u001b[0;36m1\u001b[0m\u001b[0;34m:\u001b[0m\u001b[0;34m:\u001b[0m\u001b[0;36m2\u001b[0m\u001b[0;34m]\u001b[0m \u001b[0;34m=\u001b[0m \u001b[0mtorch\u001b[0m\u001b[0;34m.\u001b[0m\u001b[0mcos\u001b[0m\u001b[0;34m(\u001b[0m\u001b[0mposition\u001b[0m \u001b[0;34m*\u001b[0m \u001b[0mdiv_term\u001b[0m\u001b[0;34m)\u001b[0m\u001b[0;34m\u001b[0m\u001b[0;34m\u001b[0m\u001b[0m\n\u001b[1;32m     10\u001b[0m         \u001b[0;32mreturn\u001b[0m \u001b[0mpositional_encoding\u001b[0m\u001b[0;34m\u001b[0m\u001b[0;34m\u001b[0m\u001b[0m\n",
      "\u001b[0;31mRuntimeError\u001b[0m: The size of tensor a (768) must match the size of tensor b (384) at non-singleton dimension 1"
     ]
    }
   ],
   "source": []
  },
  {
   "cell_type": "code",
   "execution_count": null,
   "metadata": {},
   "outputs": [],
   "source": [
    "import torch\n",
    "x = torch.arange(0, 10)\n",
    "x = x.reshape(10,1)\n",
    "x = x.unsqueeze(0).unsqueeze(0)\n",
    "x = x.repeat(3,2,1,1)\n",
    "print(x.shape,x[0])"
   ]
  },
  {
   "cell_type": "code",
   "execution_count": 14,
   "metadata": {},
   "outputs": [
    {
     "data": {
      "text/plain": [
       "(torch.Size([5, 8, 8]),\n",
       " tensor([[[0.1224, 0.0451, 0.2369, 0.1284, 0.2166, 0.1059, 0.0638, 0.0810],\n",
       "          [0.1386, 0.0377, 0.0455, 0.1840, 0.1446, 0.2267, 0.0978, 0.1251],\n",
       "          [0.0709, 0.0751, 0.0715, 0.3100, 0.1990, 0.1987, 0.0233, 0.0515],\n",
       "          [0.0408, 0.1161, 0.1590, 0.0266, 0.1103, 0.0686, 0.4368, 0.0419],\n",
       "          [0.0613, 0.1020, 0.0197, 0.0181, 0.1144, 0.3555, 0.1669, 0.1621],\n",
       "          [0.0378, 0.6014, 0.0150, 0.0388, 0.1767, 0.0156, 0.0842, 0.0304],\n",
       "          [0.1198, 0.0776, 0.2468, 0.0729, 0.2630, 0.1299, 0.0759, 0.0141],\n",
       "          [0.0291, 0.0374, 0.0925, 0.3180, 0.1252, 0.0062, 0.0310, 0.3607]],\n",
       " \n",
       "         [[0.1696, 0.1686, 0.2208, 0.0996, 0.1328, 0.0504, 0.0898, 0.0685],\n",
       "          [0.1747, 0.0190, 0.0486, 0.4478, 0.0230, 0.0434, 0.1261, 0.1173],\n",
       "          [0.2614, 0.1111, 0.1464, 0.0726, 0.0648, 0.1663, 0.0749, 0.1025],\n",
       "          [0.1494, 0.0215, 0.1368, 0.0808, 0.3475, 0.0377, 0.1971, 0.0293],\n",
       "          [0.1206, 0.0889, 0.1311, 0.1092, 0.3629, 0.0099, 0.0249, 0.1525],\n",
       "          [0.0785, 0.0141, 0.0489, 0.1858, 0.3387, 0.1173, 0.1410, 0.0757],\n",
       "          [0.1873, 0.0590, 0.0738, 0.2514, 0.1370, 0.1279, 0.1249, 0.0387],\n",
       "          [0.0322, 0.0160, 0.0282, 0.0814, 0.3455, 0.3506, 0.1216, 0.0247]],\n",
       " \n",
       "         [[0.2155, 0.0138, 0.3188, 0.0614, 0.0350, 0.3192, 0.0136, 0.0227],\n",
       "          [0.0927, 0.0325, 0.0559, 0.0229, 0.2913, 0.0326, 0.3660, 0.1061],\n",
       "          [0.1852, 0.4470, 0.0182, 0.1387, 0.0732, 0.0803, 0.0294, 0.0280],\n",
       "          [0.2198, 0.1394, 0.0418, 0.2800, 0.1017, 0.0229, 0.0316, 0.1628],\n",
       "          [0.4936, 0.0467, 0.0125, 0.1920, 0.0102, 0.1846, 0.0446, 0.0159],\n",
       "          [0.0648, 0.1387, 0.3284, 0.2654, 0.0146, 0.0271, 0.0652, 0.0957],\n",
       "          [0.0240, 0.0174, 0.2726, 0.2990, 0.2077, 0.0915, 0.0643, 0.0235],\n",
       "          [0.0644, 0.2221, 0.1147, 0.1749, 0.1204, 0.0122, 0.0693, 0.2221]],\n",
       " \n",
       "         [[0.1025, 0.1136, 0.3935, 0.1021, 0.0427, 0.0279, 0.0782, 0.1396],\n",
       "          [0.0151, 0.2751, 0.0128, 0.4721, 0.0676, 0.0695, 0.0040, 0.0838],\n",
       "          [0.1142, 0.0313, 0.3269, 0.0514, 0.2949, 0.1182, 0.0387, 0.0243],\n",
       "          [0.0811, 0.0129, 0.0422, 0.6776, 0.0071, 0.1401, 0.0220, 0.0170],\n",
       "          [0.2864, 0.2207, 0.0718, 0.0304, 0.0850, 0.1590, 0.1106, 0.0361],\n",
       "          [0.1269, 0.3757, 0.0167, 0.0345, 0.1830, 0.0332, 0.0493, 0.1807],\n",
       "          [0.2326, 0.0936, 0.0316, 0.0677, 0.0197, 0.2020, 0.2822, 0.0706],\n",
       "          [0.2173, 0.4329, 0.0406, 0.0339, 0.0621, 0.0332, 0.0378, 0.1420]],\n",
       " \n",
       "         [[0.0272, 0.0700, 0.1791, 0.0559, 0.0044, 0.3365, 0.2916, 0.0354],\n",
       "          [0.1871, 0.0296, 0.1612, 0.1114, 0.2737, 0.1672, 0.0344, 0.0353],\n",
       "          [0.1344, 0.0847, 0.3795, 0.0433, 0.2649, 0.0234, 0.0104, 0.0593],\n",
       "          [0.1225, 0.0826, 0.2660, 0.0519, 0.0987, 0.0656, 0.2341, 0.0785],\n",
       "          [0.0441, 0.1504, 0.1993, 0.1046, 0.0624, 0.1959, 0.1334, 0.1099],\n",
       "          [0.1398, 0.2497, 0.3439, 0.0204, 0.0641, 0.0196, 0.1255, 0.0369],\n",
       "          [0.1090, 0.0632, 0.2023, 0.0741, 0.0356, 0.4098, 0.0220, 0.0840],\n",
       "          [0.0372, 0.0072, 0.0718, 0.1553, 0.0094, 0.1563, 0.4950, 0.0678]]]))"
      ]
     },
     "execution_count": 14,
     "metadata": {},
     "output_type": "execute_result"
    }
   ],
   "source": [
    "import torch\n",
    "import torch.nn.functional as F\n",
    "\n",
    "# Generating a random tensor of shape (5, 8, 10)\n",
    "tensor = torch.randn(5, 8, 10)\n",
    "\n",
    "# Extracting the last 8 values from the last dimension\n",
    "sliced_tensor = tensor[:, :, -8:]\n",
    "\n",
    "# Applying softmax along the last dimension to get probability values\n",
    "probability_tensor = F.softmax(sliced_tensor, dim=-1)\n",
    "probability_tensor.shape, probability_tensor\n"
   ]
  }
 ],
 "metadata": {
  "kernelspec": {
   "display_name": "UTSC",
   "language": "python",
   "name": "python3"
  },
  "language_info": {
   "codemirror_mode": {
    "name": "ipython",
    "version": 3
   },
   "file_extension": ".py",
   "mimetype": "text/x-python",
   "name": "python",
   "nbconvert_exporter": "python",
   "pygments_lexer": "ipython3",
   "version": "3.7.16"
  },
  "orig_nbformat": 4
 },
 "nbformat": 4,
 "nbformat_minor": 2
}
