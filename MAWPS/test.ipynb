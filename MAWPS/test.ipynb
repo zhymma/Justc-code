{
 "cells": [
  {
   "cell_type": "code",
   "execution_count": 10,
   "metadata": {},
   "outputs": [
    {
     "name": "stdout",
     "output_type": "stream",
     "text": [
      "25 433\n",
      "27 433\n",
      "23 433\n",
      "24 433\n",
      "22 431\n"
     ]
    }
   ],
   "source": [
    "import json\n",
    "for i in range(5):\n",
    "\n",
    "    with open(f\"mawps/Fold_{i}/test_mawps_new_mwpss_fold_{i}.json\", 'r') as f:\n",
    "        data = json.load(f)\n",
    "    right = 0\n",
    "    for item in data:\n",
    "        for i in item[\"num_codes\"].values():\n",
    "            temp = set(i)\n",
    "            if len(temp) != len(i):\n",
    "                right+=1\n",
    "                break\n",
    "    print(right,len(data))"
   ]
  },
  {
   "cell_type": "code",
   "execution_count": 8,
   "metadata": {},
   "outputs": [
    {
     "ename": "IndexError",
     "evalue": "too many indices for tensor of dimension 1",
     "output_type": "error",
     "traceback": [
      "\u001b[0;31m---------------------------------------------------------------------------\u001b[0m",
      "\u001b[0;31mIndexError\u001b[0m                                Traceback (most recent call last)",
      "\u001b[0;32m/tmp/ipykernel_1573959/978371261.py\u001b[0m in \u001b[0;36m<module>\u001b[0;34m\u001b[0m\n\u001b[1;32m     10\u001b[0m \u001b[0;34m\u001b[0m\u001b[0m\n\u001b[1;32m     11\u001b[0m \u001b[0;31m# 计算损失\u001b[0m\u001b[0;34m\u001b[0m\u001b[0;34m\u001b[0m\u001b[0;34m\u001b[0m\u001b[0m\n\u001b[0;32m---> 12\u001b[0;31m \u001b[0mloss\u001b[0m \u001b[0;34m=\u001b[0m \u001b[0mcriterion\u001b[0m\u001b[0;34m(\u001b[0m\u001b[0mpredictions\u001b[0m\u001b[0;34m[\u001b[0m\u001b[0;36m1\u001b[0m\u001b[0;34m,\u001b[0m\u001b[0;36m0\u001b[0m\u001b[0;34m,\u001b[0m\u001b[0;36m0\u001b[0m\u001b[0;34m,\u001b[0m\u001b[0;36m0\u001b[0m\u001b[0;34m]\u001b[0m\u001b[0;34m,\u001b[0m \u001b[0mlabels\u001b[0m\u001b[0;34m[\u001b[0m\u001b[0;36m1\u001b[0m\u001b[0;34m,\u001b[0m\u001b[0;36m0\u001b[0m\u001b[0;34m,\u001b[0m\u001b[0;36m0\u001b[0m\u001b[0;34m,\u001b[0m\u001b[0;36m0\u001b[0m\u001b[0;34m]\u001b[0m\u001b[0;34m)\u001b[0m\u001b[0;34m\u001b[0m\u001b[0;34m\u001b[0m\u001b[0m\n\u001b[0m\u001b[1;32m     13\u001b[0m \u001b[0mprint\u001b[0m\u001b[0;34m(\u001b[0m\u001b[0mloss\u001b[0m\u001b[0;34m)\u001b[0m\u001b[0;34m\u001b[0m\u001b[0;34m\u001b[0m\u001b[0m\n",
      "\u001b[0;31mIndexError\u001b[0m: too many indices for tensor of dimension 1"
     ]
    }
   ],
   "source": [
    "import torch\n",
    "import torch.nn as nn\n",
    "\n",
    "# 随机生成预测值和标签\n",
    "predictions = torch.Tensor([0.5,0,0,0])  # 假设有4个样本, 输出值在0-1之间\n",
    "labels = torch.Tensor([1, 0, 1, 0])  # 真实的标签\n",
    "\n",
    "# 创建损失函数\n",
    "criterion = nn.BCEWithLogitsLoss()\n",
    "\n",
    "# 计算损失\n",
    "loss = criterion(predictions[1,0,0,0], labels[1,0,0,0])\n",
    "print(loss)\n"
   ]
  },
  {
   "cell_type": "code",
   "execution_count": 6,
   "metadata": {},
   "outputs": [
    {
     "name": "stdout",
     "output_type": "stream",
     "text": [
      "[False  True  True False False]\n",
      "(array([1, 2]),)\n",
      "[0.4 1.5 2.  0.5 0.4]\n"
     ]
    }
   ],
   "source": [
    "import numpy as np\n",
    "\n",
    "# 假设你的数组是这样的\n",
    "num_codes_labels = np.array([0.5, 1.5, 2, 0.2, 1.7])\n",
    "outputs = np.array([0.4, 0.6, 0.7, 0.5, 0.4])\n",
    "# 找出num_codes_labels中大于1的位置\n",
    "greater_than_one = num_codes_labels > 1\n",
    "# 找出outputs中大于0.5的位置\n",
    "greater_than_half = outputs > 0.5\n",
    "# 找出同时满足两个条件的位置\n",
    "both_conditions = np.logical_and(greater_than_one, greater_than_half)\n",
    "# 打印结果\n",
    "indices = np.where(both_conditions)\n",
    "outputs[indices]=num_codes_labels[indices]"
   ]
  },
  {
   "cell_type": "code",
   "execution_count": 9,
   "metadata": {},
   "outputs": [
    {
     "name": "stdout",
     "output_type": "stream",
     "text": [
      "[0]\n",
      "0.55\n"
     ]
    }
   ],
   "source": [
    "import numpy as np\n",
    "\n",
    "numbers = np.array([[0.1, 0.3, 0.2, 0.55],\n",
    "                    [0.4, 0.7, 0.8, 0.2],\n",
    "                    [0.9, 0.5, 0.3, 0.1],\n",
    "                    [0.2, 0.6, 0.4, 0.8]])\n",
    "\n",
    "# 从大于0.5的数值中找到最小值\n",
    "min_value = np.min(numbers[numbers > 0.5])\n",
    "\n",
    "# 找到最小值的位置\n",
    "indices = np.where(numbers == min_value)\n",
    "\n",
    "print(indices[0])\n",
    "print(min_value)"
   ]
  },
  {
   "cell_type": "code",
   "execution_count": 8,
   "metadata": {},
   "outputs": [
    {
     "name": "stdout",
     "output_type": "stream",
     "text": [
      "tensor([[[ True],\n",
      "         [ True]],\n",
      "\n",
      "        [[False],\n",
      "         [ True]]])\n"
     ]
    }
   ],
   "source": [
    "import torch\n",
    "\n",
    "outputs_rounded = torch.tensor([[[0, 1, 0], [1, 0, 0]], [[1, 0, 0], [0, 1, 0]]])\n",
    "labels = torch.tensor([[[0, 1, 0], [1, 0, 0]], [[0, 0, 1], [1, 0, 0]]])\n",
    "\n",
    "# 判断最后一个维度是否相等\n",
    "equality = torch.eq(outputs_rounded[:, :, -1:], labels[:, :, -1:])\n",
    "\n",
    "print(equality)\n"
   ]
  },
  {
   "cell_type": "code",
   "execution_count": 13,
   "metadata": {},
   "outputs": [
    {
     "name": "stdout",
     "output_type": "stream",
     "text": [
      "tensor([[[ True],\n",
      "         [ True],\n",
      "         [ True],\n",
      "         [False]]])\n"
     ]
    }
   ],
   "source": [
    "A = torch.tensor([[[1., 0., 0., 0., 0., 0., 0., 0., 0., 0., 0., 0., 0., 0., 0., 0., 0.,\n",
    "          0., 0., 0., 0., 0., 0., 0., 0., 0., 0., 0.],\n",
    "         [1., 0., 0., 0., 0., 0., 0., 0., 0., 0., 0., 0., 0., 0., 0., 0., 0.,\n",
    "          0., 0., 0., 0., 0., 0., 0., 0., 0., 0., 0.],\n",
    "         [0., 1., 0., 0., 0., 0., 0., 0., 0., 0., 0., 0., 0., 0., 0., 0., 0.,\n",
    "          0., 0., 0., 0., 0., 0., 0., 0., 0., 0., 0.],\n",
    "         [0., 0., 0., 0., 0., 1., 0., 0., 0., 0., 0., 0., 0., 0., 0., 0., 0.,\n",
    "          0., 0., 0., 0., 0., 0., 0., 0., 0., 0., 0.]]])\n",
    "B = torch.tensor([[[1., 0., 0., 0., 0., 0., 0., 0., 0., 0., 0., 0., 0., 0., 0., 0., 0.,\n",
    "          0., 0., 0., 0., 0., 0., 0., 0., 0., 0., 0.],\n",
    "         [1., 0., 0., 0., 0., 0., 0., 0., 0., 0., 0., 0., 0., 0., 0., 0., 0.,\n",
    "          0., 0., 0., 0., 0., 0., 0., 0., 0., 0., 0.],\n",
    "         [0., 1., 0., 0., 0., 0., 0., 0., 0., 0., 0., 0., 0., 0., 0., 0., 0.,\n",
    "          0., 0., 0., 0., 0., 0., 0., 0., 0., 0., 0.],\n",
    "         [1., 0., 0., 0., 0., 1., 0., 0., 0., 0., 0., 0., 0., 0., 0., 0., 0.,\n",
    "          0., 0., 0., 0., 0., 0., 0., 0., 0., 0., 0.]]])\n",
    "equality = torch.eq(A, B)\n",
    "equal = torch.all(equality, dim=-1, keepdim=True)\n",
    "print(equal)"
   ]
  },
  {
   "cell_type": "code",
   "execution_count": 2,
   "metadata": {},
   "outputs": [
    {
     "name": "stdout",
     "output_type": "stream",
     "text": [
      "tensor([0.5000, 0.0000, 1.0000, 0.0000])\n",
      "tensor([1., 0., 0., 0.])\n"
     ]
    }
   ],
   "source": [
    "import torch\n",
    "import torch.nn as nn\n",
    "\n",
    "# 随机生成预测值和标签\n",
    "predictions = torch.Tensor([0.5,0,1,0])  # 假设有4个样本, 输出值在0-1之间\n",
    "labels = torch.Tensor([1, 0, 1, 0])  # 真实的标签\n",
    "\n",
    "outpus_processed = 1 - 2 * torch.abs(0.5 - predictions)\n",
    "\n",
    "print(predictions)\n",
    "print(outpus_processed)\n"
   ]
  },
  {
   "cell_type": "code",
   "execution_count": 13,
   "metadata": {},
   "outputs": [
    {
     "name": "stdout",
     "output_type": "stream",
     "text": [
      "需要的迭代次数是： 8\n"
     ]
    }
   ],
   "source": [
    "def compute_iterations(P, alpha, beta, threshold):\n",
    "    iterations = 1\n",
    "    while P < threshold:\n",
    "        P = P * alpha + P * (1-alpha) * beta + (1 - P) * alpha * beta\n",
    "        iterations += 1\n",
    "    return iterations\n",
    "\n",
    "# 设定初始条件\n",
    "P = 0.8\n",
    "alpha = 0.89\n",
    "beta = 0.8\n",
    "threshold = 0.97\n",
    "\n",
    "# 计算需要的迭代次数\n",
    "iterations = compute_iterations(P, alpha, beta, threshold)\n",
    "print(\"需要的迭代次数是：\", iterations)\n"
   ]
  },
  {
   "cell_type": "code",
   "execution_count": null,
   "metadata": {},
   "outputs": [
    {
     "ename": "",
     "evalue": "",
     "output_type": "error",
     "traceback": [
      "\u001b[1;31m无法启动 Kernel。 \n",
      "\u001b[1;31mUnable to start Kernel 'UTSC (Python 3.7.16)' due to a timeout waiting for the ports to get used. \n",
      "\u001b[1;31mView Jupyter <a href='command:jupyter.viewOutput'>log</a> for further details."
     ]
    }
   ],
   "source": [
    "import numpy as np\n",
    "def compute_iterations(P, alpha, beta, threshold):\n",
    "    iterations = 0\n",
    "    while P < threshold:\n",
    "        P = P * alpha + P * (1-alpha) * beta + (1 - P) * alpha * beta\n",
    "        iterations += 1\n",
    "    return iterations\n",
    "\n",
    "P = 0.88\n",
    "threshold = 0.95\n",
    "max_iterations = 10\n",
    "\n",
    "# 初始的最小值为1，因为α和β的最大可能值为1\n",
    "min_alpha = 1\n",
    "min_beta = 1\n",
    "\n",
    "step = 0.5  # 调整步长以改变搜索的精度和速度\n",
    "\n",
    "# 对每一个可能的α和β值进行搜索\n",
    "for alpha in np.arange(0.5, 1+step, step):\n",
    "    for beta in np.arange(0.5, 1+step, step):\n",
    "        iterations = compute_iterations(P, alpha, beta, threshold)\n",
    "        # 如果在指定的迭代次数内达到阈值，并且α和β的值比当前找到的最小值还要小，那么就更新最小值\n",
    "        if iterations <= max_iterations and alpha * beta < min_alpha * min_beta:\n",
    "            min_alpha = alpha\n",
    "            min_beta = beta\n",
    "\n",
    "print(\"最小的α值为：\", min_alpha)\n",
    "print(\"最小的β值为：\", min_beta)\n"
   ]
  }
 ],
 "metadata": {
  "kernelspec": {
   "display_name": "UTSC",
   "language": "python",
   "name": "python3"
  },
  "language_info": {
   "codemirror_mode": {
    "name": "ipython",
    "version": 3
   },
   "file_extension": ".py",
   "mimetype": "text/x-python",
   "name": "python",
   "nbconvert_exporter": "python",
   "pygments_lexer": "ipython3",
   "version": "3.7.16"
  },
  "orig_nbformat": 4
 },
 "nbformat": 4,
 "nbformat_minor": 2
}
