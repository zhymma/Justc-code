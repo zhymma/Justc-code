{
 "cells": [
  {
   "cell_type": "code",
   "execution_count": 5,
   "metadata": {},
   "outputs": [
    {
     "name": "stderr",
     "output_type": "stream",
     "text": [
      "/data/zhyma/miniconda3/lib/python3.8/site-packages/tqdm/auto.py:22: TqdmWarning: IProgress not found. Please update jupyter and ipywidgets. See https://ipywidgets.readthedocs.io/en/stable/user_install.html\n",
      "  from .autonotebook import tqdm as notebook_tqdm\n"
     ]
    }
   ],
   "source": [
    "import torch"
   ]
  },
  {
   "cell_type": "code",
   "execution_count": 8,
   "metadata": {},
   "outputs": [
    {
     "name": "stdout",
     "output_type": "stream",
     "text": [
      "tensor([[[ 0,  0,  0,  0],\n",
      "         [ 4,  5,  6,  7],\n",
      "         [ 0,  0,  0,  0]],\n",
      "\n",
      "        [[ 0,  0,  0,  0],\n",
      "         [16, 17, 18, 19],\n",
      "         [ 0,  0,  0,  0]]])\n"
     ]
    }
   ],
   "source": [
    "A = torch.arange(24).reshape(2,3,4)\n",
    "b = torch.zeros(4)\n",
    "A.index_fill_(1,torch.LongTensor([0,2]),0)\n",
    "print(A)"
   ]
  },
  {
   "cell_type": "code",
   "execution_count": 2,
   "metadata": {},
   "outputs": [
    {
     "name": "stdout",
     "output_type": "stream",
     "text": [
      "[6, 3, 5, 7, 0]\n"
     ]
    }
   ],
   "source": [
    "import random\n",
    "X = random.sample((range(10)),5)\n",
    "print(X)"
   ]
  },
  {
   "cell_type": "code",
   "execution_count": 11,
   "metadata": {},
   "outputs": [
    {
     "name": "stdout",
     "output_type": "stream",
     "text": [
      "tensor(0.)\n"
     ]
    }
   ],
   "source": [
    "z = torch.Tensor([0]).squeeze()\n",
    "print(z)"
   ]
  },
  {
   "cell_type": "code",
   "execution_count": 6,
   "metadata": {},
   "outputs": [
    {
     "name": "stdout",
     "output_type": "stream",
     "text": [
      "tensor([[-0.7155,  1.1286],\n",
      "        [ 0.2429,  1.0069]])\n",
      "tensor([ 0, -1])\n",
      "tensor([1.9910, 0.0000])\n"
     ]
    }
   ],
   "source": [
    "import torch.nn as nn\n",
    "import torch\n",
    "\n",
    "x = torch.randn((2, 2))\n",
    "y = torch.tensor([0, -1])\n",
    "# 不添加ignore_index\n",
    "ce = nn.CrossEntropyLoss(reduction='none')\n",
    "# 添加ignore_index\n",
    "ce_i = nn.CrossEntropyLoss(ignore_index = -1, reduction='none')\n",
    "# out = ce(x, y)\n",
    "out_i = ce_i(x, y)\n",
    "print(x)\n",
    "print(y)\n",
    "print(out_i)\n"
   ]
  },
  {
   "cell_type": "code",
   "execution_count": 16,
   "metadata": {},
   "outputs": [
    {
     "name": "stdout",
     "output_type": "stream",
     "text": [
      "tensor([[[0.3795, 0.3344],\n",
      "         [0.7015, 0.5201],\n",
      "         [0.7108, 0.6544]],\n",
      "\n",
      "        [[0.2516, 0.9643],\n",
      "         [0.8875, 0.6337],\n",
      "         [0.2419, 0.8269]],\n",
      "\n",
      "        [[0.5955, 0.6044],\n",
      "         [0.1963, 0.9599],\n",
      "         [0.5264, 0.9293]],\n",
      "\n",
      "        [[0.0913, 0.7024],\n",
      "         [0.6310, 0.8447],\n",
      "         [0.9335, 0.4806]]])\n",
      "tensor([[[1.],\n",
      "         [1.],\n",
      "         [1.]],\n",
      "\n",
      "        [[0.],\n",
      "         [1.],\n",
      "         [0.]],\n",
      "\n",
      "        [[0.],\n",
      "         [0.],\n",
      "         [0.]],\n",
      "\n",
      "        [[0.],\n",
      "         [0.],\n",
      "         [1.]]])\n"
     ]
    }
   ],
   "source": [
    "import torch\n",
    "\n",
    "A = torch.rand((4,3,2))\n",
    "mask = torch.zeros((4,3,1))\n",
    "print(A)\n",
    "is_wrong = (A[:,:,0]>A[:,:,1]).unsqueeze(-1)\n",
    "# print(is_wrong) \n",
    "is_wrong = is_wrong & is_wrong\n",
    "# print(is_wrong)\n",
    "mask.masked_fill_(is_wrong,torch.scalar_tensor(1))\n",
    "print(mask)"
   ]
  },
  {
   "cell_type": "code",
   "execution_count": 7,
   "metadata": {},
   "outputs": [
    {
     "name": "stdout",
     "output_type": "stream",
     "text": [
      "tensor([[0.9133, 1.0000, 2.0000],\n",
      "        [3.0000, 4.0000, 0.4164]])\n"
     ]
    }
   ],
   "source": [
    "import torch\n",
    "A = torch.arange(6).reshape(2,3).float()\n",
    "B = torch.rand((2,3))\n",
    "C = torch.tensor([\n",
    "    [True,False,False],\n",
    "    [False,False,True]\n",
    "])\n",
    "A[C]=B[C]\n",
    "print(A)"
   ]
  },
  {
   "cell_type": "code",
   "execution_count": 1,
   "metadata": {},
   "outputs": [
    {
     "name": "stderr",
     "output_type": "stream",
     "text": [
      "/data/zhyma/miniconda3/lib/python3.8/site-packages/tqdm/auto.py:22: TqdmWarning: IProgress not found. Please update jupyter and ipywidgets. See https://ipywidgets.readthedocs.io/en/stable/user_install.html\n",
      "  from .autonotebook import tqdm as notebook_tqdm\n"
     ]
    },
    {
     "name": "stdout",
     "output_type": "stream",
     "text": [
      "tensor([[ 0.9276, -0.6224,  0.2619,  1.6807,  0.9850],\n",
      "        [-0.7602, -1.5217,  0.4478,  0.8117, -1.5254],\n",
      "        [-0.3378, -0.4417,  2.2237, -0.5816,  0.0990],\n",
      "        [-2.2766, -0.5766,  0.3488,  0.2291, -0.7727],\n",
      "        [ 0.4435, -0.4417,  2.4707,  0.8385,  1.3493]])\n"
     ]
    }
   ],
   "source": [
    "import torch\n",
    "tensor1 = torch.randn(5, 5, 2)\n",
    "result = tensor1[:, :, -1]\n",
    "print(result)"
   ]
  },
  {
   "cell_type": "code",
   "execution_count": 4,
   "metadata": {},
   "outputs": [
    {
     "name": "stdout",
     "output_type": "stream",
     "text": [
      "tensor([[[ 0.2270, -0.4146, -2.1177, -0.2306,  0.8834],\n",
      "         [ 0.7782, -0.5131,  1.4310,  0.5452, -1.5131],\n",
      "         [-0.6511,  0.7880, -0.8208, -0.7241, -0.8657],\n",
      "         [ 1.8046,  0.6929, -0.1265, -1.2426,  0.4891]],\n",
      "\n",
      "        [[ 1.7446, -0.1975, -0.5620, -0.2608, -0.6617],\n",
      "         [-2.4954, -1.3500,  0.2372,  0.2050, -0.2221],\n",
      "         [-0.7385, -0.9507, -0.4965,  1.3614, -1.8766],\n",
      "         [-0.9451, -0.4799,  0.1365, -1.5041,  0.0132]],\n",
      "\n",
      "        [[ 1.8013, -0.9333, -1.1561, -0.7110,  1.2781],\n",
      "         [-0.0265, -0.0269, -0.8955,  2.1344,  0.3000],\n",
      "         [ 0.4842, -0.5933, -0.5615, -0.5130,  1.8854],\n",
      "         [ 0.0782,  0.3291,  0.3784,  1.1334, -0.0454]]])\n",
      "tensor([[[1., 0., 0., 0., 1.],\n",
      "         [1., 0., 1., 0., 0.],\n",
      "         [1., 1., 0., 0., 0.],\n",
      "         [1., 1., 0., 0., 0.]],\n",
      "\n",
      "        [[1., 1., 0., 0., 0.],\n",
      "         [0., 0., 1., 1., 0.],\n",
      "         [0., 0., 1., 1., 0.],\n",
      "         [0., 0., 1., 0., 1.]],\n",
      "\n",
      "        [[1., 0., 0., 0., 1.],\n",
      "         [0., 0., 0., 1., 1.],\n",
      "         [1., 0., 0., 0., 1.],\n",
      "         [0., 0., 1., 1., 0.]]])\n"
     ]
    }
   ],
   "source": [
    "import torch\n",
    "\n",
    "# 创建一个形状为 (3, 4, 5) 的随机 Tensor\n",
    "x = torch.randn(3, 4, 5)\n",
    "\n",
    "# 计算每一行中需要置为 1 的元素的数量\n",
    "num_elements_to_set = x.shape[-1] // 2\n",
    "\n",
    "# 获取每一行中最大的 num_elements_to_set 个元素的下标\n",
    "top_k_values, top_k_indices = torch.topk(x, k=num_elements_to_set, dim=-1)\n",
    "\n",
    "# 创建一个全为 0 的 mask Tensor\n",
    "mask = torch.zeros_like(x)\n",
    "\n",
    "# 将每一行中最大的 num_elements_to_set 个元素的下标对应的位置置为 1\n",
    "mask.scatter_(dim=-1, index=top_k_indices, src=torch.ones_like(top_k_indices).to(mask.dtype))\n",
    "print(x)\n",
    "# 打印最终的 mask 01 矩阵\n",
    "print(mask)\n"
   ]
  },
  {
   "cell_type": "code",
   "execution_count": 5,
   "metadata": {},
   "outputs": [
    {
     "name": "stdout",
     "output_type": "stream",
     "text": [
      "tensor([[0.4101, 0.3489, 0.2215, 0.0194],\n",
      "        [0.5730, 0.1143, 0.2387, 0.0739],\n",
      "        [0.4879, 0.2371, 0.0920, 0.1831]])\n"
     ]
    }
   ],
   "source": [
    "import torch.nn.functional as F\n",
    "\n",
    "# 定义一个随机张量\n",
    "x = torch.randn(3, 4)\n",
    "\n",
    "# 计算 softmax\n",
    "y = F.softmax(x, dim=1)\n",
    "\n",
    "print(y)\n"
   ]
  }
 ],
 "metadata": {
  "kernelspec": {
   "display_name": "base",
   "language": "python",
   "name": "python3"
  },
  "language_info": {
   "codemirror_mode": {
    "name": "ipython",
    "version": 3
   },
   "file_extension": ".py",
   "mimetype": "text/x-python",
   "name": "python",
   "nbconvert_exporter": "python",
   "pygments_lexer": "ipython3",
   "version": "3.8.15"
  },
  "orig_nbformat": 4
 },
 "nbformat": 4,
 "nbformat_minor": 2
}
